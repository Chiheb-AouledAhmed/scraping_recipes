{
 "cells": [
  {
   "cell_type": "code",
   "execution_count": 1,
   "metadata": {},
   "outputs": [],
   "source": [
    "from bs4 import BeautifulSoup\n",
    "import requests\n",
    "import pandas as pd\n",
    "import time"
   ]
  },
  {
   "cell_type": "code",
   "execution_count": 2,
   "metadata": {},
   "outputs": [],
   "source": [
    "url=\"https://www.allrecipes.com/recipe/getreviews/?recipeid={}&recipeType=Recipe&sortBy=MostHelpful&pagesize={}&pageNumber=1&fbclid=IwAR18V6pdX8QqE83NZ2XGvTt__rgRXqh84g8ngFlk4W-YmHova68voIl5qc8\"\n",
    "headers={\"User_Agent\":\"Mozilla/5.0 (Windows NT 10.0; Win64; x64) AppleWebKit/537.36 (KHTML, like Gecko) Chrome/81.0.4044.129 Safari/537.36\"}"
   ]
  },
  {
   "cell_type": "code",
   "execution_count": 31,
   "metadata": {},
   "outputs": [],
   "source": [
    "def get_users(recipe_id,page_size):\n",
    "    rec_url=url.format(recipe_id,page_size)\n",
    "    page =requests.get(rec_url,headers=headers)\n",
    "    #print(rec_url)\n",
    "    dic={}\n",
    "    soup = BeautifulSoup(page.content,'html.parser')\n",
    "    sp=soup.find_all(\"div\",class_=\"review-container clearfix\")\n",
    "    users=[user.find(\"h4\",itemprop=\"author\").get_text().strip() for user in sp]\n",
    "    ratings=[rating.find(\"div\",class_=\"stars-and-date-container\").find(\"span\")[\"data-ratingstars\"] for rating in sp]\n",
    "    dates=[date.find(\"div\",itemprop=\"dateCreated\")[\"content\"] for date in sp]\n",
    "    dic['users']=users\n",
    "    dic['ratings']=ratings\n",
    "    dic['dates']=dates\n",
    "    return dic"
   ]
  },
  {
   "cell_type": "code",
   "execution_count": 34,
   "metadata": {},
   "outputs": [
    {
     "name": "stdout",
     "output_type": "stream",
     "text": [
      "{'sheiswan': {244474: '5'}, 'Thomas Tigue': {244474: '5'}, 'mary w': {279361: '5'}, 'Michelle': {279361: '5'}, 'kate': {279361: '5'}, 'Mer B': {279361: '5'}, 'momcgough': {279361: '5'}, 'luv2cook': {279361: '5'}, 'Sharyl': {279361: '5', 272625: '5', 279407: '5'}, 'Charli R': {279361: '5'}, 'Roy Daniel': {279361: '5', 279501: '5'}, 'Susan': {279361: '5'}, 'RioKim': {272625: '5'}, 'Lee Spoor': {272625: '5'}, 'Chris Liza': {272625: '5'}, 'resy': {272625: '5'}, 'Sharon B': {272625: '5'}, 'Paula Lee Rosevear Micallef': {272625: '5'}, 'Sophia Kotlyarenko': {272625: '5'}, 'Ashlyn Giordano': {272625: '5'}, 'Solomon Carter': {272625: '5'}, 'pcgirl': {279407: '5'}, 'Tea-ah': {279407: '4'}, 'Victoria Hayhurst': {279407: '5'}, 'charleta': {279407: '5'}, 'Hoosiermama': {279407: '4'}, 'Linda B': {279407: '5'}, '': {272615: '5'}, 'Jeannette Rodriguez Dejesus': {272615: '5'}, 'AlmaK': {272615: '5'}, 'Boggs D': {272615: '5'}, 'Linda Hayes Johnson': {272615: '5'}, 'SSchriber': {272615: '5'}, 'Matthew Collard': {279501: '5'}, 'Marija': {279501: '5'}, 'Ben Leonard': {279501: '5'}, 'Ana': {279501: '5'}, 'Linda Lou': {279501: '5'}, 'Salty Dan': {279501: '4'}, 'blot': {279501: '2'}, 'kconeill': {279501: '5'}, 'Len Lindsey': {279501: '2'}, 'Nichole': {270954: '5'}, 'jen': {270954: '5'}, 'Ronbee': {270954: '5'}, 'Michael Antonino': {270954: '5'}, 'Pat Nugent': {270954: '5'}, 'karen': {270954: '5'}, 'Kyndrie': {270954: '5'}, \"Katy's Collections\": {270954: '5'}, 'Julie': {270954: '5'}, 'Susie': {270954: '5'}, 'Cheryl Johnson': {272184: '5'}, 'Miguel Arguelles': {272184: '3'}, 'Rosslyn': {272184: '5'}, 'el grande': {272184: '1'}, 'Stuntwoman': {272184: '2'}, 'MOM': {272184: '5'}, 'Carrie Degan': {272184: '5'}, 'nwhite949': {264320: '5'}, 'wheezer': {264320: '5'}, 'Monet Fisette': {264320: '3'}, 'Sherri Dittman': {264320: '5'}, 'Kat Y': {264320: '5'}, 'janice tofuri': {223042: '3'}, 'RebeccaD': {223042: '3'}, 'Grandma G': {223042: '5'}, 'sillymewinkle': {223042: '5'}, 'GoldenCook': {223042: '5'}, 'Alpha': {223042: '4'}, 'Isbell': {223042: '5'}, 'SouthwestHiAltCook': {223042: '5'}, 'scootersandi': {223042: '5'}, 'Melissa': {223042: '5'}}\n",
      "--- 15.836621284484863 seconds ---\n"
     ]
    }
   ],
   "source": [
    "path=r'C:\\Users\\chihe\\Untitled Folder\\all_recipes_ids.csv'\n",
    "data = pd.read_csv(path)\n",
    "dictio={}\n",
    "di={}\n",
    "page_size=10\n",
    "nb_recipe=10\n",
    "start_time = time.time()\n",
    "for i in range (nb_recipe):\n",
    "    recipe=data['recipe_id '][i]\n",
    "    dictio=get_users(recipe,page_size)\n",
    "    for j in range(len(dictio['users'])):\n",
    "        user=dictio['users'][j]\n",
    "        rating=dictio['ratings'][j]\n",
    "        if(not(user in di)):\n",
    "            di[user]={}\n",
    "        di[user][recipe]=rating\n",
    "print(di)\n",
    "print(\"--- %s seconds ---\" % (time.time() - start_time))"
   ]
  },
  {
   "cell_type": "code",
   "execution_count": 26,
   "metadata": {},
   "outputs": [],
   "source": [
    "def get_cdf_contests_infos():\n",
    "    url = \"https://codeforces.com/contests\"\n",
    "    page =requests.get(url,headers=headers)\n",
    "    soup = BeautifulSoup(page.content,'html.parser')\n",
    "    sp=soup.find_all(\"div\",class_=\"datatable\")\n",
    "    contests=sp[0].find_all(\"tr\")\n",
    "    contest_infos=[{\"name\":contest['data-contestid'] , \"date\":contest.find_all(\"td\")[2].find(\"a\").getText().strip()}for contest in contests[1:]]\n",
    "    print(contest_infos)\n",
    "    return contest_infos"
   ]
  },
  {
   "cell_type": "code",
   "execution_count": 27,
   "metadata": {},
   "outputs": [
    {
     "name": "stdout",
     "output_type": "stream",
     "text": [
      "[{'name': '1349', 'date': 'May/12/2020 15:35'}, {'name': '1350', 'date': 'May/12/2020 15:35'}, {'name': '1353', 'date': 'May/14/2020 17:35'}, {'name': '1355', 'date': 'May/16/2020 14:35'}, {'name': '1354', 'date': 'May/17/2020 17:35'}, {'name': '1347', 'date': 'May/22/2020 16:35'}, {'name': '1346', 'date': 'May/29/2020 17:35'}]\n"
     ]
    },
    {
     "data": {
      "text/plain": [
       "[{'name': '1349', 'date': 'May/12/2020 15:35'},\n",
       " {'name': '1350', 'date': 'May/12/2020 15:35'},\n",
       " {'name': '1353', 'date': 'May/14/2020 17:35'},\n",
       " {'name': '1355', 'date': 'May/16/2020 14:35'},\n",
       " {'name': '1354', 'date': 'May/17/2020 17:35'},\n",
       " {'name': '1347', 'date': 'May/22/2020 16:35'},\n",
       " {'name': '1346', 'date': 'May/29/2020 17:35'}]"
      ]
     },
     "execution_count": 27,
     "metadata": {},
     "output_type": "execute_result"
    }
   ],
   "source": [
    "get_cdf_contests_infos()"
   ]
  }
 ],
 "metadata": {
  "kernelspec": {
   "display_name": "Python 3",
   "language": "python",
   "name": "python3"
  },
  "language_info": {
   "codemirror_mode": {
    "name": "ipython",
    "version": 3
   },
   "file_extension": ".py",
   "mimetype": "text/x-python",
   "name": "python",
   "nbconvert_exporter": "python",
   "pygments_lexer": "ipython3",
   "version": "3.7.4"
  }
 },
 "nbformat": 4,
 "nbformat_minor": 2
}
